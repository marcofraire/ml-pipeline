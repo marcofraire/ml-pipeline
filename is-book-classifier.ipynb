{
 "cells": [
  {
   "cell_type": "code",
   "execution_count": 1,
   "metadata": {},
   "outputs": [],
   "source": []
  },
  {
   "cell_type": "code",
   "execution_count": 2,
   "metadata": {},
   "outputs": [],
   "source": [
    "DB_DETAILS = {\n",
    "    'NAME': 'postgres',\n",
    "    'HOST': \"localhost\",\n",
    "    'PORT': \"5432\",\n",
    "    'USER': \"postgres\",\n",
    "    'PASSWORD': \"Matita03!\"\n",
    "}\n",
    "\n"
   ]
  },
  {
   "cell_type": "code",
   "execution_count": 3,
   "metadata": {},
   "outputs": [
    {
     "name": "stderr",
     "output_type": "stream",
     "text": [
      "c:\\Users\\marco\\Desktop\\Projects\\bbourse\\ml-pipeline\\ml-pipeline\\.venv\\Lib\\site-packages\\tqdm\\auto.py:21: TqdmWarning: IProgress not found. Please update jupyter and ipywidgets. See https://ipywidgets.readthedocs.io/en/stable/user_install.html\n",
      "  from .autonotebook import tqdm as notebook_tqdm\n",
      "Some weights of RobertaModel were not initialized from the model checkpoint at roberta-base and are newly initialized: ['roberta.pooler.dense.bias', 'roberta.pooler.dense.weight']\n",
      "You should probably TRAIN this model on a down-stream task to be able to use it for predictions and inference.\n",
      "c:\\Users\\marco\\Desktop\\Projects\\bbourse\\ml-pipeline\\ml-pipeline\\.venv\\Lib\\site-packages\\torchvision\\models\\_utils.py:208: UserWarning: The parameter 'pretrained' is deprecated since 0.13 and may be removed in the future, please use 'weights' instead.\n",
      "  warnings.warn(\n",
      "c:\\Users\\marco\\Desktop\\Projects\\bbourse\\ml-pipeline\\ml-pipeline\\.venv\\Lib\\site-packages\\torchvision\\models\\_utils.py:223: UserWarning: Arguments other than a weight enum or `None` for 'weights' are deprecated since 0.13 and may be removed in the future. The current behavior is equivalent to passing `weights=ViT_B_16_Weights.IMAGENET1K_V1`. You can also use `weights=ViT_B_16_Weights.DEFAULT` to get the most up-to-date weights.\n",
      "  warnings.warn(msg)\n"
     ]
    },
    {
     "name": "stdout",
     "output_type": "stream",
     "text": [
      "Model downloaded from Azure Blob Storage to: is_book_ml_21-05-2024.pth\n",
      "Model loaded and set to evaluation mode\n",
      "\n",
      "    DROP TABLE IF EXISTS temp_updates;\n",
      "    CREATE TEMP TABLE temp_updates (\n",
      "        img_id VARCHAR,\n",
      "        is_book VARCHAR\n",
      "    );\n",
      "    INSERT INTO temp_updates (img_id, is_book) VALUES\n",
      "    ('tmQAAOSwcl1jvvXW', 'book'),\n",
      "      ('ZKEAAOSwyn1mPv8U', 'book'),\n",
      "      ('Dx4AAOSwiY1mOiPt', 'book'),\n",
      "      ('YLMAAOSweYVmNDnd', 'book'),\n",
      "      ('PmoAAOSwT6NmFxms', 'book'),\n",
      "      ('3icAAOSw9glmKr0i', 'book'),\n",
      "      ('~MEAAOSwsLJmKXjf', 'book'),\n",
      "      ('lGcAAOSwx2Vk16wp', 'book'),\n",
      "      ('4oYAAOSwsLBmPEB0', 'book'),\n",
      "      ('70oAAOSwjNhmGYsp', 'book')\n",
      "    ;\n",
      "    UPDATE bbourse.book_listings\n",
      "    SET is_book = temp_updates.is_book\n",
      "    FROM temp_updates\n",
      "    WHERE bbourse.book_listings.img_id = temp_updates.img_id;\n",
      "    DROP TABLE temp_updates;\n",
      "    \n"
     ]
    }
   ],
   "source": [
    "from is_book_classifier import find_load_is_book\n",
    "find_load_is_book(DB_DETAILS, CONNECTION_STRING, hard_limit=10)"
   ]
  }
 ],
 "metadata": {
  "kernelspec": {
   "display_name": ".venv",
   "language": "python",
   "name": "python3"
  },
  "language_info": {
   "codemirror_mode": {
    "name": "ipython",
    "version": 3
   },
   "file_extension": ".py",
   "mimetype": "text/x-python",
   "name": "python",
   "nbconvert_exporter": "python",
   "pygments_lexer": "ipython3",
   "version": "3.12.3"
  }
 },
 "nbformat": 4,
 "nbformat_minor": 2
}
